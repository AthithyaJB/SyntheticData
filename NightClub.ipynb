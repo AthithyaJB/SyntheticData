{
 "cells": [
  {
   "cell_type": "code",
   "execution_count": 1,
   "id": "5ee9ec92",
   "metadata": {},
   "outputs": [],
   "source": [
    "import pandas as pd\n",
    "import numpy as np\n",
    "import random\n"
   ]
  },
  {
   "cell_type": "code",
   "execution_count": 2,
   "id": "bffe3a42",
   "metadata": {},
   "outputs": [],
   "source": [
    "# Define the types of drinks\n",
    "drinks = ['beer', 'wine', 'vodka', 'whiskey', 'rum']\n",
    "\n",
    "# Define the prices of each drink\n",
    "prices = {'beer': 5, 'wine': 8, 'vodka': 10, 'whiskey': 12, 'rum': 7}\n",
    "\n",
    "# Define the times at which drinks are sold\n",
    "times = pd.date_range(start='2022-01-01', end='2022-02-28', freq='30min')\n"
   ]
  },
  {
   "cell_type": "code",
   "execution_count": null,
   "id": "d84d4ec0",
   "metadata": {},
   "outputs": [],
   "source": [
    "# Create an empty dataframe to hold the sales data\n",
    "sales_data = pd.DataFrame(columns=['drink', 'price', 'timestamp'])\n",
    "\n",
    "# Loop through each time period and generate a random number of sales for each drink\n",
    "for t in times:\n",
    "    for drink in drinks:\n",
    "        # Generate a random number of sales for this time period and drink\n",
    "        num_sales = random.randint(0, 20)\n",
    "        \n",
    "        # Add the sales data to the dataframe\n",
    "        sales_data = sales_data.append(pd.DataFrame({'drink': [drink]*num_sales,\n",
    "                                                      'price': [prices[drink]]*num_sales,\n",
    "                                                      'timestamp': [t]*num_sales}))\n"
   ]
  },
  {
   "cell_type": "code",
   "execution_count": 6,
   "id": "f4fbf2ca",
   "metadata": {},
   "outputs": [],
   "source": [
    "sales_data.to_csv('nightclub_sales.csv', index=False)"
   ]
  },
  {
   "cell_type": "code",
   "execution_count": 7,
   "id": "d6818bf5",
   "metadata": {},
   "outputs": [],
   "source": [
    "import boto3\n",
    "\n",
    "s3_client = boto3.client('s3')\n",
    "bucket_name = 'nightclubbucket'\n"
   ]
  },
  {
   "cell_type": "code",
   "execution_count": 8,
   "id": "c13ce614",
   "metadata": {},
   "outputs": [
    {
     "data": {
      "text/plain": [
       "{'ResponseMetadata': {'RequestId': 'N6YTZVF30J71VJ9F',\n",
       "  'HostId': '+v+Vq3xb7ih7ipPTXjm5i5uL7MprNKSQt14JmKBkYZEtHRu01czJDI+cVmcRLk8eLWKVjD7CYhc=',\n",
       "  'HTTPStatusCode': 200,\n",
       "  'HTTPHeaders': {'x-amz-id-2': '+v+Vq3xb7ih7ipPTXjm5i5uL7MprNKSQt14JmKBkYZEtHRu01czJDI+cVmcRLk8eLWKVjD7CYhc=',\n",
       "   'x-amz-request-id': 'N6YTZVF30J71VJ9F',\n",
       "   'date': 'Wed, 22 Feb 2023 17:06:55 GMT',\n",
       "   'x-amz-server-side-encryption': 'AES256',\n",
       "   'etag': '\"2040833afa642acf782c83a5be698cf3\"',\n",
       "   'server': 'AmazonS3',\n",
       "   'content-length': '0'},\n",
       "  'RetryAttempts': 0},\n",
       " 'ETag': '\"2040833afa642acf782c83a5be698cf3\"',\n",
       " 'ServerSideEncryption': 'AES256'}"
      ]
     },
     "execution_count": 8,
     "metadata": {},
     "output_type": "execute_result"
    }
   ],
   "source": [
    "s3_client.put_object(Bucket=bucket_name, Key='nightclub_sales.csv', Body=open('nightclub_sales.csv', 'rb'))\n"
   ]
  },
  {
   "cell_type": "code",
   "execution_count": null,
   "id": "e831d9d9",
   "metadata": {},
   "outputs": [],
   "source": []
  }
 ],
 "metadata": {
  "kernelspec": {
   "display_name": "conda_python3",
   "language": "python",
   "name": "conda_python3"
  },
  "language_info": {
   "codemirror_mode": {
    "name": "ipython",
    "version": 3
   },
   "file_extension": ".py",
   "mimetype": "text/x-python",
   "name": "python",
   "nbconvert_exporter": "python",
   "pygments_lexer": "ipython3",
   "version": "3.10.6"
  }
 },
 "nbformat": 4,
 "nbformat_minor": 5
}
